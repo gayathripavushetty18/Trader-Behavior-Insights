{
 "cells": [
  {
   "cell_type": "code",
   "execution_count": 9,
   "id": "3e015944-c7b2-4fa2-a9c7-a77f412735b6",
   "metadata": {},
   "outputs": [
    {
     "data": {
      "text/plain": [
       "Index(['Account', 'Coin', 'Execution Price', 'Size Tokens', 'Size USD', 'Side',\n",
       "       'Timestamp IST', 'Start Position', 'Direction', 'Closed PnL',\n",
       "       'Transaction Hash', 'Order ID', 'Crossed', 'Fee', 'Trade ID',\n",
       "       'Timestamp'],\n",
       "      dtype='object')"
      ]
     },
     "execution_count": 9,
     "metadata": {},
     "output_type": "execute_result"
    }
   ],
   "source": [
    "import pandas as pd\n",
    "\n",
    "# Load only the relevant columns\n",
    "sentiment_df = pd.read_csv(\"fear_greed_index.csv\", usecols=[\"date\", \"classification\"])\n",
    "trader_df = pd.read_csv(\"historical_data.csv\")\n",
    "trader_df.columns"
   ]
  },
  {
   "cell_type": "code",
   "execution_count": 45,
   "id": "0bae327c-93e4-4665-a114-11639237c7c0",
   "metadata": {},
   "outputs": [],
   "source": [
    "import pandas as pd\n",
    "\n",
    "# Load only available relevant columns\n",
    "trader_df = pd.read_csv(\"historical_data.csv\", usecols=[\n",
    "    \"Account\",           # account\n",
    "    \"Coin\",              # symbol\n",
    "    \"Execution Price\",   # execution price\n",
    "    \"Size Tokens\",       # size\n",
    "    \"Side\",              # side\n",
    "    \"Timestamp IST\",         # time\n",
    "    \"Start Position\",    # start position\n",
    "    \"Direction\",         # event\n",
    "    \"Closed PnL\"         # closedPnL\n",
    "])\n"
   ]
  },
  {
   "cell_type": "code",
   "execution_count": 47,
   "id": "fec59247-3b60-4334-94af-b56bd31f69a7",
   "metadata": {},
   "outputs": [
    {
     "data": {
      "text/plain": [
       "Account            0\n",
       "Coin               0\n",
       "Execution Price    0\n",
       "Size Tokens        0\n",
       "Side               0\n",
       "Timestamp IST      0\n",
       "Start Position     0\n",
       "Direction          0\n",
       "Closed PnL         0\n",
       "dtype: int64"
      ]
     },
     "execution_count": 47,
     "metadata": {},
     "output_type": "execute_result"
    }
   ],
   "source": [
    "trader_df.isnull().sum()"
   ]
  },
  {
   "cell_type": "code",
   "execution_count": 49,
   "id": "ccf603e6-679b-4cb0-90dc-ba1533a0cbfa",
   "metadata": {},
   "outputs": [],
   "source": [
    "trader_df['Timestamp IST'] = pd.to_datetime(trader_df['Timestamp IST'], errors='coerce')\n",
    "trader_df = trader_df.dropna(subset=['Timestamp IST'])  # optional cleanup\n",
    "trader_df['date'] = trader_df['Timestamp IST'].dt.date\n"
   ]
  },
  {
   "cell_type": "code",
   "execution_count": 51,
   "id": "c2fb7d19-ca4e-4853-a157-2ee9a7deddb3",
   "metadata": {},
   "outputs": [],
   "source": [
    "sentiment_df['date'] = pd.to_datetime(sentiment_df['date'], errors='coerce')\n",
    "sentiment_df = sentiment_df.dropna(subset=['date'])\n",
    "sentiment_df['date'] = sentiment_df['date'].dt.date\n"
   ]
  },
  {
   "cell_type": "code",
   "execution_count": 53,
   "id": "0f5e8cb4-94fb-4c2f-889a-71a8e8e494de",
   "metadata": {},
   "outputs": [],
   "source": [
    "sentiment_map = dict(zip(sentiment_df['date'], sentiment_df['classification']))\n",
    "trader_df['sentiment'] = trader_df['date'].map(sentiment_map)\n"
   ]
  },
  {
   "cell_type": "code",
   "execution_count": 55,
   "id": "59351d35-2f1f-4241-8723-02c7fa3b315e",
   "metadata": {},
   "outputs": [
    {
     "name": "stdout",
     "output_type": "stream",
     "text": [
      "           date      sentiment\n",
      "0    2024-02-12          Greed\n",
      "44   2024-03-12  Extreme Greed\n",
      "189  2024-04-12  Extreme Greed\n",
      "190  2025-04-03           Fear\n",
      "211  2025-05-03            NaN\n",
      "0.5473146102871568\n"
     ]
    }
   ],
   "source": [
    "print(trader_df[['date', 'sentiment']].drop_duplicates().head())\n",
    "print(trader_df['sentiment'].isna().mean())  # ideally much less than 1.0\n"
   ]
  },
  {
   "cell_type": "code",
   "execution_count": 57,
   "id": "5cc48a17-5eb5-4843-bb28-e6d0bcbfd232",
   "metadata": {},
   "outputs": [
    {
     "data": {
      "text/plain": [
       "sentiment\n",
       "Extreme Fear       1.891632\n",
       "Extreme Greed    205.816345\n",
       "Fear             128.287950\n",
       "Greed             53.988003\n",
       "Neutral           27.088803\n",
       "Name: Closed PnL, dtype: float64"
      ]
     },
     "execution_count": 57,
     "metadata": {},
     "output_type": "execute_result"
    }
   ],
   "source": [
    "trader_df.groupby('sentiment')['Closed PnL'].mean()\n"
   ]
  },
  {
   "cell_type": "code",
   "execution_count": 59,
   "id": "b1141437-8640-4bee-aa2e-e0574c431896",
   "metadata": {},
   "outputs": [
    {
     "data": {
      "text/plain": [
       "sentiment\n",
       "Fear             13869\n",
       "Greed            11292\n",
       "Extreme Greed     5621\n",
       "Neutral           2756\n",
       "Extreme Fear      2326\n",
       "Name: count, dtype: int64"
      ]
     },
     "execution_count": 59,
     "metadata": {},
     "output_type": "execute_result"
    }
   ],
   "source": [
    "trader_df['sentiment'].value_counts()\n"
   ]
  },
  {
   "cell_type": "code",
   "execution_count": 61,
   "id": "f6c36b51-5153-4436-8bc7-d16bf1240f6f",
   "metadata": {},
   "outputs": [
    {
     "data": {
      "text/plain": [
       "sentiment\n",
       "Extreme Fear      2460.043834\n",
       "Extreme Greed    16407.310318\n",
       "Fear              3219.865206\n",
       "Greed            14956.263148\n",
       "Neutral          17720.854908\n",
       "Name: Size Tokens, dtype: float64"
      ]
     },
     "execution_count": 61,
     "metadata": {},
     "output_type": "execute_result"
    }
   ],
   "source": [
    "trader_df.groupby('sentiment')['Size Tokens'].mean()\n"
   ]
  },
  {
   "cell_type": "code",
   "execution_count": 63,
   "id": "b81fef7d-7454-4ed6-8a3c-4ce41c6decd4",
   "metadata": {},
   "outputs": [
    {
     "data": {
      "image/png": "[encoded data removed]",
      "text/plain": [
       "<Figure size 640x480 with 1 Axes>"
      ]
     },
     "metadata": {},
     "output_type": "display_data"
    }
   ],
   "source": [
    "import seaborn as sns\n",
    "import matplotlib.pyplot as plt\n",
    "\n",
    "sns.boxplot(data=trader_df, x='sentiment', y='Closed PnL')\n",
    "plt.title(\"Closed PnL Distribution during Fear vs Greed\")\n",
    "plt.show()\n"
   ]
  },
  {
   "cell_type": "code",
   "execution_count": 67,
   "id": "6ba494fa-1310-4818-89a3-1405a3044853",
   "metadata": {},
   "outputs": [
    {
     "data": {
      "text/html": [
       "<div>\n",
       "<style scoped>\n",
       "    .dataframe tbody tr th:only-of-type {\n",
       "        vertical-align: middle;\n",
       "    }\n",
       "\n",
       "    .dataframe tbody tr th {\n",
       "        vertical-align: top;\n",
       "    }\n",
       "\n",
       "    .dataframe thead th {\n",
       "        text-align: right;\n",
       "    }\n",
       "</style>\n",
       "<table border=\"1\" class=\"dataframe\">\n",
       "  <thead>\n",
       "    <tr style=\"text-align: right;\">\n",
       "      <th>Coin</th>\n",
       "      <th>@107</th>\n",
       "      <th>@4</th>\n",
       "      <th>@49</th>\n",
       "      <th>@8</th>\n",
       "      <th>AAVE</th>\n",
       "      <th>ADA</th>\n",
       "      <th>AI</th>\n",
       "      <th>AI16Z</th>\n",
       "      <th>AIXBT</th>\n",
       "      <th>ALGO</th>\n",
       "      <th>...</th>\n",
       "      <th>MYRO</th>\n",
       "      <th>PEOPLE</th>\n",
       "      <th>POLYX</th>\n",
       "      <th>SEI</th>\n",
       "      <th>STX</th>\n",
       "      <th>USTC</th>\n",
       "      <th>@48</th>\n",
       "      <th>CANTO</th>\n",
       "      <th>FIL</th>\n",
       "      <th>MOVE</th>\n",
       "    </tr>\n",
       "    <tr>\n",
       "      <th>sentiment</th>\n",
       "      <th></th>\n",
       "      <th></th>\n",
       "      <th></th>\n",
       "      <th></th>\n",
       "      <th></th>\n",
       "      <th></th>\n",
       "      <th></th>\n",
       "      <th></th>\n",
       "      <th></th>\n",
       "      <th></th>\n",
       "      <th></th>\n",
       "      <th></th>\n",
       "      <th></th>\n",
       "      <th></th>\n",
       "      <th></th>\n",
       "      <th></th>\n",
       "      <th></th>\n",
       "      <th></th>\n",
       "      <th></th>\n",
       "      <th></th>\n",
       "      <th></th>\n",
       "    </tr>\n",
       "  </thead>\n",
       "  <tbody>\n",
       "    <tr>\n",
       "      <th>Extreme Fear</th>\n",
       "      <td>67.0</td>\n",
       "      <td>28.0</td>\n",
       "      <td>4.0</td>\n",
       "      <td>2.0</td>\n",
       "      <td>3.0</td>\n",
       "      <td>5.0</td>\n",
       "      <td>6.0</td>\n",
       "      <td>29.0</td>\n",
       "      <td>5.0</td>\n",
       "      <td>1.0</td>\n",
       "      <td>...</td>\n",
       "      <td>0.0</td>\n",
       "      <td>0.0</td>\n",
       "      <td>0.0</td>\n",
       "      <td>0.0</td>\n",
       "      <td>0.0</td>\n",
       "      <td>0.0</td>\n",
       "      <td>0.0</td>\n",
       "      <td>0.0</td>\n",
       "      <td>0.0</td>\n",
       "      <td>0.0</td>\n",
       "    </tr>\n",
       "    <tr>\n",
       "      <th>Extreme Greed</th>\n",
       "      <td>2395.0</td>\n",
       "      <td>79.0</td>\n",
       "      <td>0.0</td>\n",
       "      <td>40.0</td>\n",
       "      <td>102.0</td>\n",
       "      <td>9.0</td>\n",
       "      <td>0.0</td>\n",
       "      <td>0.0</td>\n",
       "      <td>0.0</td>\n",
       "      <td>0.0</td>\n",
       "      <td>...</td>\n",
       "      <td>0.0</td>\n",
       "      <td>0.0</td>\n",
       "      <td>0.0</td>\n",
       "      <td>0.0</td>\n",
       "      <td>0.0</td>\n",
       "      <td>0.0</td>\n",
       "      <td>0.0</td>\n",
       "      <td>0.0</td>\n",
       "      <td>0.0</td>\n",
       "      <td>0.0</td>\n",
       "    </tr>\n",
       "    <tr>\n",
       "      <th>Fear</th>\n",
       "      <td>1456.0</td>\n",
       "      <td>47.0</td>\n",
       "      <td>1.0</td>\n",
       "      <td>20.0</td>\n",
       "      <td>37.0</td>\n",
       "      <td>97.0</td>\n",
       "      <td>0.0</td>\n",
       "      <td>23.0</td>\n",
       "      <td>48.0</td>\n",
       "      <td>0.0</td>\n",
       "      <td>...</td>\n",
       "      <td>0.0</td>\n",
       "      <td>0.0</td>\n",
       "      <td>0.0</td>\n",
       "      <td>0.0</td>\n",
       "      <td>0.0</td>\n",
       "      <td>0.0</td>\n",
       "      <td>0.0</td>\n",
       "      <td>0.0</td>\n",
       "      <td>0.0</td>\n",
       "      <td>0.0</td>\n",
       "    </tr>\n",
       "    <tr>\n",
       "      <th>Greed</th>\n",
       "      <td>1911.0</td>\n",
       "      <td>190.0</td>\n",
       "      <td>0.0</td>\n",
       "      <td>34.0</td>\n",
       "      <td>28.0</td>\n",
       "      <td>13.0</td>\n",
       "      <td>7.0</td>\n",
       "      <td>46.0</td>\n",
       "      <td>47.0</td>\n",
       "      <td>0.0</td>\n",
       "      <td>...</td>\n",
       "      <td>13.0</td>\n",
       "      <td>1.0</td>\n",
       "      <td>14.0</td>\n",
       "      <td>4.0</td>\n",
       "      <td>15.0</td>\n",
       "      <td>1.0</td>\n",
       "      <td>0.0</td>\n",
       "      <td>0.0</td>\n",
       "      <td>0.0</td>\n",
       "      <td>0.0</td>\n",
       "    </tr>\n",
       "    <tr>\n",
       "      <th>Neutral</th>\n",
       "      <td>1079.0</td>\n",
       "      <td>47.0</td>\n",
       "      <td>0.0</td>\n",
       "      <td>31.0</td>\n",
       "      <td>14.0</td>\n",
       "      <td>4.0</td>\n",
       "      <td>0.0</td>\n",
       "      <td>17.0</td>\n",
       "      <td>9.0</td>\n",
       "      <td>0.0</td>\n",
       "      <td>...</td>\n",
       "      <td>0.0</td>\n",
       "      <td>0.0</td>\n",
       "      <td>0.0</td>\n",
       "      <td>0.0</td>\n",
       "      <td>0.0</td>\n",
       "      <td>0.0</td>\n",
       "      <td>1.0</td>\n",
       "      <td>8.0</td>\n",
       "      <td>5.0</td>\n",
       "      <td>1.0</td>\n",
       "    </tr>\n",
       "  </tbody>\n",
       "</table>\n",
       "<p>5 rows × 170 columns</p>\n",
       "</div>"
      ],
      "text/plain": [
       "Coin             @107     @4  @49    @8   AAVE   ADA   AI  AI16Z  AIXBT  ALGO  \\\n",
       "sentiment                                                                       \n",
       "Extreme Fear     67.0   28.0  4.0   2.0    3.0   5.0  6.0   29.0    5.0   1.0   \n",
       "Extreme Greed  2395.0   79.0  0.0  40.0  102.0   9.0  0.0    0.0    0.0   0.0   \n",
       "Fear           1456.0   47.0  1.0  20.0   37.0  97.0  0.0   23.0   48.0   0.0   \n",
       "Greed          1911.0  190.0  0.0  34.0   28.0  13.0  7.0   46.0   47.0   0.0   \n",
       "Neutral        1079.0   47.0  0.0  31.0   14.0   4.0  0.0   17.0    9.0   0.0   \n",
       "\n",
       "Coin           ...  MYRO  PEOPLE  POLYX  SEI   STX  USTC  @48  CANTO  FIL  \\\n",
       "sentiment      ...                                                          \n",
       "Extreme Fear   ...   0.0     0.0    0.0  0.0   0.0   0.0  0.0    0.0  0.0   \n",
       "Extreme Greed  ...   0.0     0.0    0.0  0.0   0.0   0.0  0.0    0.0  0.0   \n",
       "Fear           ...   0.0     0.0    0.0  0.0   0.0   0.0  0.0    0.0  0.0   \n",
       "Greed          ...  13.0     1.0   14.0  4.0  15.0   1.0  0.0    0.0  0.0   \n",
       "Neutral        ...   0.0     0.0    0.0  0.0   0.0   0.0  1.0    8.0  5.0   \n",
       "\n",
       "Coin           MOVE  \n",
       "sentiment            \n",
       "Extreme Fear    0.0  \n",
       "Extreme Greed   0.0  \n",
       "Fear            0.0  \n",
       "Greed           0.0  \n",
       "Neutral         1.0  \n",
       "\n",
       "[5 rows x 170 columns]"
      ]
     },
     "execution_count": 67,
     "metadata": {},
     "output_type": "execute_result"
    }
   ],
   "source": [
    "#Most Active Coins per Sentiment\n",
    "trader_df.groupby(['sentiment', 'Coin']).size().unstack().fillna(0)\n"
   ]
  },
  {
   "cell_type": "markdown",
   "id": "81480d66-a8b3-4fe2-b3ea-a2392a715653",
   "metadata": {
    "jupyter": {
     "source_hidden": true
    }
   },
   "source": [
    "#Identify Top Performing Traders"
   ]
  },
  {
   "cell_type": "code",
   "execution_count": 71,
   "id": "08bd7f12-50a1-40ff-9129-a42623f3b5c8",
   "metadata": {},
   "outputs": [
    {
     "name": "stdout",
     "output_type": "stream",
     "text": [
      "Account                                     sentiment    \n",
      "0x083384f897ee0f19899168e3b1bec365f52a9012  Fear             1.010607e+06\n",
      "0xb1231a4a2dd02f2276fa3c5e2a2f3436e6bfed23  Extreme Greed    9.978715e+05\n",
      "                                            Greed            3.327058e+05\n",
      "0x72c6a4624e1dffa724e6d00d64ceae698af892a0  Fear             1.972949e+05\n",
      "0xbaaaf6571ab7d571043ff1e313a9609a10637864  Greed            1.881168e+05\n",
      "0xbd5fead7180a9c139fa51a103cb6a2ce86ddb5c3  Fear             1.711983e+05\n",
      "0xbee1707d6b44d4d52bfe19e41f8a828645437aab  Extreme Greed    1.554902e+05\n",
      "0xb1231a4a2dd02f2276fa3c5e2a2f3436e6bfed23  Fear             1.481471e+05\n",
      "0x4f93fead39b70a1824f981a54d4e55b278e9f760  Fear             6.893832e+04\n",
      "0x75f7eeb85dc639d5e99c78f95393aa9a5f1170d4  Greed            6.804519e+04\n",
      "Name: Closed PnL, dtype: float64\n"
     ]
    }
   ],
   "source": [
    "top_accounts = trader_df.groupby(['Account', 'sentiment'])['Closed PnL'].sum().sort_values(ascending=False).head(10)\n",
    "print(top_accounts)"
   ]
  },
  {
   "cell_type": "code",
   "execution_count": null,
   "id": "95a0e0ba-a281-46c0-9d45-b76bd578ebcf",
   "metadata": {},
   "outputs": [],
   "source": []
  }
 ],
 "metadata": {
  "kernelspec": {
   "display_name": "Python [conda env:base] *",
   "language": "python",
   "name": "conda-base-py"
  },
  "language_info": {
   "codemirror_mode": {
    "name": "ipython",
    "version": 3
   },
   "file_extension": ".py",
   "mimetype": "text/x-python",
   "name": "python",
   "nbconvert_exporter": "python",
   "pygments_lexer": "ipython3",
   "version": "3.12.7"
  }
 },
 "nbformat": 4,
 "nbformat_minor": 5
}
